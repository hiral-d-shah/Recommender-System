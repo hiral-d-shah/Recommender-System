{
 "cells": [
  {
   "cell_type": "markdown",
   "id": "2a210985-4c2f-45e0-a5cd-18e154f50a99",
   "metadata": {},
   "source": [
    "# Data Fetch from MySQL Database to CSV\n",
    "This notebook focuses on extracting order and product data from the MySQL database of a WordPress WooCommerce site and exporting it into CSV format. The extracted data will serve as the foundation for building the recommender system, facilitating easy manipulation and analysis. We will anonymize sensitive information by using IDs instead of names for categories, coupon codes, product names, user information, and other fields."
   ]
  },
  {
   "cell_type": "code",
   "execution_count": 1,
   "id": "bb448fa0-09cf-4b62-96bd-81796b650ef5",
   "metadata": {},
   "outputs": [
    {
     "name": "stdout",
     "output_type": "stream",
     "text": [
      "Requirement already satisfied: mysql-connector-python in c:\\users\\hiral\\appdata\\local\\programs\\python\\python310\\lib\\site-packages (9.0.0)"
     ]
    },
    {
     "name": "stderr",
     "output_type": "stream",
     "text": [
      "WARNING: There was an error checking the latest version of pip.\n"
     ]
    },
    {
     "name": "stdout",
     "output_type": "stream",
     "text": [
      "\n"
     ]
    }
   ],
   "source": [
    "!pip install mysql-connector-python"
   ]
  },
  {
   "cell_type": "code",
   "execution_count": 2,
   "id": "be31f462-358a-4032-be89-9f47ac67ae68",
   "metadata": {},
   "outputs": [],
   "source": [
    "import mysql.connector\n",
    "import csv\n",
    "import pandas as pd"
   ]
  },
  {
   "cell_type": "code",
   "execution_count": 3,
   "id": "e51bac94-d0eb-4c13-ae75-6ef4e7170012",
   "metadata": {
    "scrolled": true
   },
   "outputs": [],
   "source": [
    "# Connect to MYSQL database\n",
    "mydb = mysql.connector.connect(user='root', password='', host='localhost', database='recommender')"
   ]
  },
  {
   "cell_type": "markdown",
   "id": "605f9742-9eef-471b-8ebb-a596467c6b18",
   "metadata": {},
   "source": [
    "### Products Export\n",
    "We are exporting the current attributes of the product with this query. This includes details such as product ID, type, category, price, sale price, stock status, size, rating, and review count. The exported data will be used for analysis and recommendation generation."
   ]
  },
  {
   "cell_type": "code",
   "execution_count": 4,
   "id": "02f262cf-1d88-4e36-8aa3-e7c18bebc9b8",
   "metadata": {},
   "outputs": [
    {
     "data": {
      "text/plain": [
       "True"
      ]
     },
     "execution_count": 4,
     "metadata": {},
     "output_type": "execute_result"
    }
   ],
   "source": [
    "cursor = mydb.cursor()\n",
    "\n",
    "# Query to Fetch Product Details for Recommender System\n",
    "query = (\"SELECT posts.ID as 'ID' , posts.post_type as 'Type', posts.post_parent as 'Parent Product Id', posts.post_status as 'Status', price.meta_value as 'Price', sale.meta_value as 'Sale Price', sale_from_date.meta_value as 'Sale From', sale_to_date.meta_value as 'Sale To', stock.meta_value as 'Stock Status', GROUP_CONCAT(DISTINCT(categories_details.term_id) SEPARATOR ',') as 'Categories', size.meta_value as 'Size', rating.meta_value as 'Rating', review_count.meta_value as 'Review Count' FROM d98kih_posts as posts LEFT JOIN d98kih_postmeta as price on posts.ID = price.post_id and price.meta_key='_regular_price' LEFT JOIN d98kih_postmeta as sale on posts.ID = sale.post_id and sale.meta_key='_sale_price' LEFT JOIN d98kih_postmeta as sale_from_date on posts.ID = sale_from_date.post_id and sale_from_date.meta_key='_sale_price_dates_from' LEFT JOIN d98kih_postmeta as sale_to_date on posts.ID = sale_to_date.post_id and sale_to_date.meta_key='_sale_price_dates_to' LEFT JOIN d98kih_postmeta as stock on posts.ID = stock.post_id and stock.meta_key='_stock_status' LEFT JOIN d98kih_postmeta as size on posts.ID = size.post_id and size.meta_key='attribute_pa_weight' LEFT JOIN d98kih_postmeta as rating on posts.ID = rating.post_id and rating.meta_key='_wc_average_rating' LEFT JOIN d98kih_postmeta as review_count on posts.ID = review_count.post_id and review_count.meta_key='_wc_review_count' LEFT JOIN d98kih_term_relationships as category_relation on posts.ID = category_relation.object_id LEFT JOIN d98kih_term_taxonomy as categories_details on category_relation.term_taxonomy_id = categories_details.term_taxonomy_id and categories_details.taxonomy = 'product_cat' WHERE posts.post_type = 'product' or posts.post_type = 'product_variation' GROUP BY posts.ID ORDER BY posts.ID ASC\")\n",
    "cursor.execute(query)\n",
    "\n",
    "# Get Column Names for CSV\n",
    "column_names = [i[0] for i in cursor.description]\n",
    "\n",
    "# Get Products for CSV Export\n",
    "products = cursor.fetchall()\n",
    "\n",
    "# Write Products to CSV\n",
    "fp = open('data/products.csv', 'w+', encoding='utf-8')\n",
    "myFile = csv.writer(fp, lineterminator = '\\n')\n",
    "myFile.writerow(column_names)\n",
    "myFile.writerows(products)\n",
    "fp.close()\n",
    "\n",
    "cursor.close()"
   ]
  },
  {
   "cell_type": "code",
   "execution_count": 5,
   "id": "180ff2a4-4545-49ad-a4b9-0920c2ab876a",
   "metadata": {},
   "outputs": [
    {
     "data": {
      "text/html": [
       "<div>\n",
       "<style scoped>\n",
       "    .dataframe tbody tr th:only-of-type {\n",
       "        vertical-align: middle;\n",
       "    }\n",
       "\n",
       "    .dataframe tbody tr th {\n",
       "        vertical-align: top;\n",
       "    }\n",
       "\n",
       "    .dataframe thead th {\n",
       "        text-align: right;\n",
       "    }\n",
       "</style>\n",
       "<table border=\"1\" class=\"dataframe\">\n",
       "  <thead>\n",
       "    <tr style=\"text-align: right;\">\n",
       "      <th></th>\n",
       "      <th>ID</th>\n",
       "      <th>Type</th>\n",
       "      <th>Parent Product Id</th>\n",
       "      <th>Status</th>\n",
       "      <th>Price</th>\n",
       "      <th>Sale Price</th>\n",
       "      <th>Sale From</th>\n",
       "      <th>Sale To</th>\n",
       "      <th>Stock Status</th>\n",
       "      <th>Categories</th>\n",
       "      <th>Size</th>\n",
       "      <th>Rating</th>\n",
       "      <th>Review Count</th>\n",
       "    </tr>\n",
       "  </thead>\n",
       "  <tbody>\n",
       "    <tr>\n",
       "      <th>0</th>\n",
       "      <td>433</td>\n",
       "      <td>product</td>\n",
       "      <td>0</td>\n",
       "      <td>publish</td>\n",
       "      <td>NaN</td>\n",
       "      <td>NaN</td>\n",
       "      <td>NaN</td>\n",
       "      <td>NaN</td>\n",
       "      <td>instock</td>\n",
       "      <td>20,31</td>\n",
       "      <td>NaN</td>\n",
       "      <td>0.0</td>\n",
       "      <td>0</td>\n",
       "    </tr>\n",
       "    <tr>\n",
       "      <th>1</th>\n",
       "      <td>441</td>\n",
       "      <td>product</td>\n",
       "      <td>0</td>\n",
       "      <td>publish</td>\n",
       "      <td>NaN</td>\n",
       "      <td>NaN</td>\n",
       "      <td>NaN</td>\n",
       "      <td>NaN</td>\n",
       "      <td>instock</td>\n",
       "      <td>20,31</td>\n",
       "      <td>NaN</td>\n",
       "      <td>0.0</td>\n",
       "      <td>0</td>\n",
       "    </tr>\n",
       "    <tr>\n",
       "      <th>2</th>\n",
       "      <td>458</td>\n",
       "      <td>product</td>\n",
       "      <td>0</td>\n",
       "      <td>publish</td>\n",
       "      <td>NaN</td>\n",
       "      <td>NaN</td>\n",
       "      <td>NaN</td>\n",
       "      <td>NaN</td>\n",
       "      <td>instock</td>\n",
       "      <td>23,31</td>\n",
       "      <td>NaN</td>\n",
       "      <td>0.0</td>\n",
       "      <td>0</td>\n",
       "    </tr>\n",
       "    <tr>\n",
       "      <th>3</th>\n",
       "      <td>482</td>\n",
       "      <td>product</td>\n",
       "      <td>0</td>\n",
       "      <td>publish</td>\n",
       "      <td>NaN</td>\n",
       "      <td>NaN</td>\n",
       "      <td>NaN</td>\n",
       "      <td>NaN</td>\n",
       "      <td>instock</td>\n",
       "      <td>23,31</td>\n",
       "      <td>NaN</td>\n",
       "      <td>0.0</td>\n",
       "      <td>0</td>\n",
       "    </tr>\n",
       "    <tr>\n",
       "      <th>4</th>\n",
       "      <td>499</td>\n",
       "      <td>product</td>\n",
       "      <td>0</td>\n",
       "      <td>publish</td>\n",
       "      <td>349.0</td>\n",
       "      <td>NaN</td>\n",
       "      <td>NaN</td>\n",
       "      <td>NaN</td>\n",
       "      <td>instock</td>\n",
       "      <td>23,31</td>\n",
       "      <td>NaN</td>\n",
       "      <td>0.0</td>\n",
       "      <td>0</td>\n",
       "    </tr>\n",
       "  </tbody>\n",
       "</table>\n",
       "</div>"
      ],
      "text/plain": [
       "    ID     Type  Parent Product Id   Status  Price  Sale Price  Sale From  \\\n",
       "0  433  product                  0  publish    NaN         NaN        NaN   \n",
       "1  441  product                  0  publish    NaN         NaN        NaN   \n",
       "2  458  product                  0  publish    NaN         NaN        NaN   \n",
       "3  482  product                  0  publish    NaN         NaN        NaN   \n",
       "4  499  product                  0  publish  349.0         NaN        NaN   \n",
       "\n",
       "   Sale To Stock Status Categories Size  Rating  Review Count  \n",
       "0      NaN      instock      20,31  NaN     0.0             0  \n",
       "1      NaN      instock      20,31  NaN     0.0             0  \n",
       "2      NaN      instock      23,31  NaN     0.0             0  \n",
       "3      NaN      instock      23,31  NaN     0.0             0  \n",
       "4      NaN      instock      23,31  NaN     0.0             0  "
      ]
     },
     "execution_count": 5,
     "metadata": {},
     "output_type": "execute_result"
    }
   ],
   "source": [
    "product_info = pd.read_csv(\"data/products.csv\")\n",
    "product_info.head(5)"
   ]
  },
  {
   "cell_type": "markdown",
   "id": "36126b79-b3b6-4022-b791-734ae1a237ee",
   "metadata": {},
   "source": [
    "### Order Informtation Export\n",
    "We are exporting detailed order information using this query. This includes fields such as order ID, order date, customer ID, order type, total amount, shipping cost, total quantity, coupon code, billing address details, and order status. The exported data will provide insights into purchasing patterns and customer demographics, which are essential for building the recommender system."
   ]
  },
  {
   "cell_type": "code",
   "execution_count": 6,
   "id": "f299f392-5a1e-443b-8ab2-13d6039865f0",
   "metadata": {},
   "outputs": [
    {
     "data": {
      "text/plain": [
       "True"
      ]
     },
     "execution_count": 6,
     "metadata": {},
     "output_type": "execute_result"
    }
   ],
   "source": [
    "cursor = mydb.cursor()\n",
    "\n",
    "# Query to Fetch Detailed Order Information for Recommender System\n",
    "query = (\"SELECT posts.ID as 'ID' , posts.post_date_gmt as 'Order Date', order_stats.customer_id as 'Customer Id', IF(customer_user.meta_value = 0 ,'Guest','Customer') as 'Type', order_stats.total_sales as 'Total Amount', order_stats.shipping_total as 'Shipping Cost', order_stats.num_items_sold as 'Total Qty', coupon_stats.coupon_id as 'Coupon Code ID',  bstate.meta_value as 'Billing State', posts.post_status as 'Order Status' FROM `d98kih_posts` as posts LEFT JOIN `d98kih_wc_order_stats` as order_stats on posts.ID = order_stats.order_id LEFT JOIN `d98kih_wc_order_coupon_lookup` as coupon_stats on posts.ID = coupon_stats.order_id LEFT JOIN `d98kih_postmeta` as customer_user on posts.ID = customer_user.post_id and customer_user.meta_key='_customer_user' LEFT JOIN `d98kih_postmeta` as bstate on posts.ID = bstate.post_id and bstate.meta_key='_billing_state' WHERE posts.post_type = 'shop_order' GROUP BY posts.ID ORDER BY posts.ID ASC\")\n",
    "cursor.execute(query)\n",
    "\n",
    "# Get Column Names for CSV\n",
    "column_names = [i[0] for i in cursor.description]\n",
    "\n",
    "# Get Orders for CSV Export\n",
    "orders = cursor.fetchall()\n",
    "\n",
    "# Write Orders to CSV\n",
    "fp = open('data/orders.csv', 'w+', encoding='utf-8')\n",
    "myFile = csv.writer(fp, lineterminator = '\\n')\n",
    "myFile.writerow(column_names)\n",
    "myFile.writerows(orders)\n",
    "fp.close()\n",
    "\n",
    "cursor.close()"
   ]
  },
  {
   "cell_type": "code",
   "execution_count": 7,
   "id": "dd896b39-1908-4877-8b23-e98e5423705a",
   "metadata": {},
   "outputs": [
    {
     "data": {
      "text/html": [
       "<div>\n",
       "<style scoped>\n",
       "    .dataframe tbody tr th:only-of-type {\n",
       "        vertical-align: middle;\n",
       "    }\n",
       "\n",
       "    .dataframe tbody tr th {\n",
       "        vertical-align: top;\n",
       "    }\n",
       "\n",
       "    .dataframe thead th {\n",
       "        text-align: right;\n",
       "    }\n",
       "</style>\n",
       "<table border=\"1\" class=\"dataframe\">\n",
       "  <thead>\n",
       "    <tr style=\"text-align: right;\">\n",
       "      <th></th>\n",
       "      <th>ID</th>\n",
       "      <th>Order Date</th>\n",
       "      <th>Customer Id</th>\n",
       "      <th>Type</th>\n",
       "      <th>Total Amount</th>\n",
       "      <th>Shipping Cost</th>\n",
       "      <th>Total Qty</th>\n",
       "      <th>Coupon Code ID</th>\n",
       "      <th>Billing State</th>\n",
       "      <th>Order Status</th>\n",
       "    </tr>\n",
       "  </thead>\n",
       "  <tbody>\n",
       "    <tr>\n",
       "      <th>0</th>\n",
       "      <td>1235</td>\n",
       "      <td>2021-05-05 16:00:59</td>\n",
       "      <td>1</td>\n",
       "      <td>Guest</td>\n",
       "      <td>5.0</td>\n",
       "      <td>0.0</td>\n",
       "      <td>1</td>\n",
       "      <td>NaN</td>\n",
       "      <td>MH</td>\n",
       "      <td>wc-completed</td>\n",
       "    </tr>\n",
       "    <tr>\n",
       "      <th>1</th>\n",
       "      <td>1236</td>\n",
       "      <td>2021-05-05 16:23:13</td>\n",
       "      <td>2</td>\n",
       "      <td>Guest</td>\n",
       "      <td>5.0</td>\n",
       "      <td>0.0</td>\n",
       "      <td>1</td>\n",
       "      <td>NaN</td>\n",
       "      <td>MH</td>\n",
       "      <td>wc-completed</td>\n",
       "    </tr>\n",
       "    <tr>\n",
       "      <th>2</th>\n",
       "      <td>1237</td>\n",
       "      <td>2021-05-05 16:39:52</td>\n",
       "      <td>2</td>\n",
       "      <td>Guest</td>\n",
       "      <td>1.0</td>\n",
       "      <td>0.0</td>\n",
       "      <td>1</td>\n",
       "      <td>NaN</td>\n",
       "      <td>MH</td>\n",
       "      <td>wc-completed</td>\n",
       "    </tr>\n",
       "    <tr>\n",
       "      <th>3</th>\n",
       "      <td>1270</td>\n",
       "      <td>2021-05-06 07:15:32</td>\n",
       "      <td>3</td>\n",
       "      <td>Customer</td>\n",
       "      <td>350.0</td>\n",
       "      <td>100.0</td>\n",
       "      <td>2</td>\n",
       "      <td>NaN</td>\n",
       "      <td>MH</td>\n",
       "      <td>wc-completed</td>\n",
       "    </tr>\n",
       "    <tr>\n",
       "      <th>4</th>\n",
       "      <td>1271</td>\n",
       "      <td>2021-05-08 12:15:38</td>\n",
       "      <td>4</td>\n",
       "      <td>Guest</td>\n",
       "      <td>648.0</td>\n",
       "      <td>150.0</td>\n",
       "      <td>2</td>\n",
       "      <td>NaN</td>\n",
       "      <td>DL</td>\n",
       "      <td>wc-cancelled</td>\n",
       "    </tr>\n",
       "  </tbody>\n",
       "</table>\n",
       "</div>"
      ],
      "text/plain": [
       "     ID           Order Date  Customer Id      Type  Total Amount  \\\n",
       "0  1235  2021-05-05 16:00:59            1     Guest           5.0   \n",
       "1  1236  2021-05-05 16:23:13            2     Guest           5.0   \n",
       "2  1237  2021-05-05 16:39:52            2     Guest           1.0   \n",
       "3  1270  2021-05-06 07:15:32            3  Customer         350.0   \n",
       "4  1271  2021-05-08 12:15:38            4     Guest         648.0   \n",
       "\n",
       "   Shipping Cost  Total Qty  Coupon Code ID Billing State  Order Status  \n",
       "0            0.0          1             NaN            MH  wc-completed  \n",
       "1            0.0          1             NaN            MH  wc-completed  \n",
       "2            0.0          1             NaN            MH  wc-completed  \n",
       "3          100.0          2             NaN            MH  wc-completed  \n",
       "4          150.0          2             NaN            DL  wc-cancelled  "
      ]
     },
     "execution_count": 7,
     "metadata": {},
     "output_type": "execute_result"
    }
   ],
   "source": [
    "order_info = pd.read_csv(\"data/orders.csv\")\n",
    "order_info.head(5)"
   ]
  },
  {
   "attachments": {},
   "cell_type": "markdown",
   "id": "1439f643-23d9-49d8-adbe-9225d1985445",
   "metadata": {},
   "source": [
    "### Order-Product Informtation Export\n",
    "We are exporting detailed order-product association information using this query. This includes fields such as order ID, product ID, quantity, and total price. The exported data will help analyze product performance within orders, track purchasing trends, and identify cross-selling opportunities, which are crucial for optimizing the recommender system"
   ]
  },
  {
   "cell_type": "code",
   "execution_count": 8,
   "id": "ed24a3e1-2393-41ef-b11c-e82237faebf5",
   "metadata": {},
   "outputs": [
    {
     "data": {
      "text/plain": [
       "True"
      ]
     },
     "execution_count": 8,
     "metadata": {},
     "output_type": "execute_result"
    }
   ],
   "source": [
    "cursor = mydb.cursor()\n",
    "\n",
    "# Query to Fetch Order-Product Association Information for Recommender System\n",
    "query = (\"SELECT order_items.order_item_id as 'Order Item ID' , orders.order_id as 'Order ID', product.meta_value as 'Product ID', variation.meta_value as 'Variation ID', qty.meta_value as 'QTY', ROUND(((total_amomunt.meta_value + tax.meta_value) /qty.meta_value),0) as 'Total Price' FROM `d98kih_woocommerce_order_items` as order_items JOIN `d98kih_wc_order_stats` as orders on order_items.order_id = orders.order_id LEFT JOIN `d98kih_woocommerce_order_itemmeta` as product on product.order_item_id = order_items.order_item_id and product.meta_key='_product_id' LEFT JOIN `d98kih_woocommerce_order_itemmeta` as variation on variation.order_item_id = order_items.order_item_id and variation.meta_key='_variation_id' LEFT JOIN `d98kih_woocommerce_order_itemmeta` as qty on qty.order_item_id = order_items.order_item_id and qty.meta_key='_qty' LEFT JOIN `d98kih_woocommerce_order_itemmeta` as total_amomunt on total_amomunt.order_item_id = order_items.order_item_id and total_amomunt.meta_key='_line_total' LEFT JOIN `d98kih_woocommerce_order_itemmeta` as tax on tax.order_item_id = order_items.order_item_id and tax.meta_key='_line_tax' WHERE order_items.order_item_type = 'line_item' GROUP BY order_items.order_item_id ORDER BY order_items.order_item_id ASC\")\n",
    "cursor.execute(query)\n",
    "\n",
    "# Get Column Names for CSV\n",
    "column_names = [i[0] for i in cursor.description]\n",
    "\n",
    "# Get Order-Product Data for CSV Export\n",
    "order_product = cursor.fetchall()\n",
    "\n",
    "# Write Order-Product Data to CSV\n",
    "fp = open('data/order-product.csv', 'w+', encoding='utf-8')\n",
    "myFile = csv.writer(fp, lineterminator = '\\n')\n",
    "myFile.writerow(column_names)\n",
    "myFile.writerows(order_product)\n",
    "fp.close()\n",
    "\n",
    "cursor.close()"
   ]
  },
  {
   "cell_type": "code",
   "execution_count": 9,
   "id": "91690852-cc3e-40df-b26b-2e0dd2713334",
   "metadata": {},
   "outputs": [
    {
     "data": {
      "text/html": [
       "<div>\n",
       "<style scoped>\n",
       "    .dataframe tbody tr th:only-of-type {\n",
       "        vertical-align: middle;\n",
       "    }\n",
       "\n",
       "    .dataframe tbody tr th {\n",
       "        vertical-align: top;\n",
       "    }\n",
       "\n",
       "    .dataframe thead th {\n",
       "        text-align: right;\n",
       "    }\n",
       "</style>\n",
       "<table border=\"1\" class=\"dataframe\">\n",
       "  <thead>\n",
       "    <tr style=\"text-align: right;\">\n",
       "      <th></th>\n",
       "      <th>Order Item ID</th>\n",
       "      <th>Order ID</th>\n",
       "      <th>Product ID</th>\n",
       "      <th>Variation ID</th>\n",
       "      <th>QTY</th>\n",
       "      <th>Total Price</th>\n",
       "    </tr>\n",
       "  </thead>\n",
       "  <tbody>\n",
       "    <tr>\n",
       "      <th>0</th>\n",
       "      <td>3</td>\n",
       "      <td>1235</td>\n",
       "      <td>1231</td>\n",
       "      <td>0</td>\n",
       "      <td>1</td>\n",
       "      <td>5.0</td>\n",
       "    </tr>\n",
       "    <tr>\n",
       "      <th>1</th>\n",
       "      <td>5</td>\n",
       "      <td>1236</td>\n",
       "      <td>1231</td>\n",
       "      <td>0</td>\n",
       "      <td>1</td>\n",
       "      <td>5.0</td>\n",
       "    </tr>\n",
       "    <tr>\n",
       "      <th>2</th>\n",
       "      <td>7</td>\n",
       "      <td>1237</td>\n",
       "      <td>1231</td>\n",
       "      <td>0</td>\n",
       "      <td>1</td>\n",
       "      <td>1.0</td>\n",
       "    </tr>\n",
       "    <tr>\n",
       "      <th>3</th>\n",
       "      <td>9</td>\n",
       "      <td>1270</td>\n",
       "      <td>1231</td>\n",
       "      <td>0</td>\n",
       "      <td>1</td>\n",
       "      <td>1.0</td>\n",
       "    </tr>\n",
       "    <tr>\n",
       "      <th>4</th>\n",
       "      <td>10</td>\n",
       "      <td>1270</td>\n",
       "      <td>610</td>\n",
       "      <td>0</td>\n",
       "      <td>1</td>\n",
       "      <td>249.0</td>\n",
       "    </tr>\n",
       "  </tbody>\n",
       "</table>\n",
       "</div>"
      ],
      "text/plain": [
       "   Order Item ID  Order ID  Product ID  Variation ID  QTY  Total Price\n",
       "0              3      1235        1231             0    1          5.0\n",
       "1              5      1236        1231             0    1          5.0\n",
       "2              7      1237        1231             0    1          1.0\n",
       "3              9      1270        1231             0    1          1.0\n",
       "4             10      1270         610             0    1        249.0"
      ]
     },
     "execution_count": 9,
     "metadata": {},
     "output_type": "execute_result"
    }
   ],
   "source": [
    "order_product_info = pd.read_csv(\"data/order-product.csv\")\n",
    "order_product_info.head(5)"
   ]
  },
  {
   "cell_type": "code",
   "execution_count": 10,
   "id": "855c9164-79b5-4d2e-a359-de48b0d54fcd",
   "metadata": {},
   "outputs": [],
   "source": [
    "mydb.close()"
   ]
  },
  {
   "cell_type": "markdown",
   "id": "6aa8505b-7433-4f05-87a6-fc4d97ba5ec1",
   "metadata": {},
   "source": [
    "### Data Privacy and Security\n",
    "\n",
    "While the SQL queries used for data extraction do not explicitly handle anonymization, sensitive information is automatically anonymized during the export process. We use IDs instead of names for categories, coupon codes, product names, user information, and other sensitive fields to protect privacy and ensure compliance with data protection standards."
   ]
  },
  {
   "cell_type": "markdown",
   "id": "6d8a4c46-e6ce-4954-81f4-95f20b2e137c",
   "metadata": {},
   "source": [
    "### Conclusion:\n",
    "In this notebook, we successfully extracted order and product data from the MySQL database of a WordPress WooCommerce site and exported it into CSV format. The extracted data includes product details, order information, and order-product associations, which are now prepared for further analysis and development of the recommender system. We have taken significant measures to ensure data privacy, protecting the information of website users.\n",
    "\n",
    "### Next Steps:\n",
    "We will address data quality issues and ensure the data is ready for analysis in a separate notebook."
   ]
  }
 ],
 "metadata": {
  "kernelspec": {
   "display_name": "Python 3 (ipykernel)",
   "language": "python",
   "name": "python3"
  },
  "language_info": {
   "codemirror_mode": {
    "name": "ipython",
    "version": 3
   },
   "file_extension": ".py",
   "mimetype": "text/x-python",
   "name": "python",
   "nbconvert_exporter": "python",
   "pygments_lexer": "ipython3",
   "version": "3.10.5"
  }
 },
 "nbformat": 4,
 "nbformat_minor": 5
}
